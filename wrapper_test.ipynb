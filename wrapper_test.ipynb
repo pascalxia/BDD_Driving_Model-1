{
 "cells": [
  {
   "cell_type": "code",
   "execution_count": 1,
   "metadata": {
    "scrolled": false
   },
   "outputs": [
    {
     "name": "stderr",
     "output_type": "stream",
     "text": [
      "WARNING:tensorflow:tf.op_scope(values, name, default_name) is deprecated, use tf.name_scope(name, default_name, values)\n"
     ]
    },
    {
     "name": "stdout",
     "output_type": "stream",
     "text": [
      "using Yang's load pretrained weights version\n",
      "('conv1', 'weights', (11, 11, 3, 96))\n",
      "('weight = ', 0.0)\n",
      "('conv1', 'biases', (96,))\n",
      "(20, 55, 55, 96)\n",
      "('conv2', 'weights', (5, 5, 48, 256))\n",
      "('weight = ', 0.0)\n",
      "('conv2', 'biases', (256,))\n",
      "(20, 27, 27, 256)\n",
      "('conv3', 'weights', (3, 3, 256, 384))\n",
      "('weight = ', 0.0)\n",
      "('conv3', 'biases', (384,))\n",
      "(20, 13, 13, 384)\n",
      "('conv4', 'weights', (3, 3, 192, 384))\n",
      "('weight = ', 0.0)\n",
      "('conv4', 'biases', (384,))\n",
      "(20, 13, 13, 384)\n",
      "('conv5', 'weights', (3, 3, 192, 256))\n",
      "('weight = ', 0.0)\n",
      "('conv5', 'biases', (256,))\n",
      "(20, 13, 13, 256)\n",
      "('fc6', 'weights', (9216, 4096))\n",
      "('weight = ', 0.0)\n",
      "('fc6', 'biases', (4096,))\n",
      "(20, 1, 1, 4096)\n",
      "('fc7', 'weights', (4096, 4096))\n",
      "('weight = ', 0.0)\n",
      "('fc7', 'biases', (4096,))\n",
      "(20, 1, 1, 4096)\n",
      "('fc8', 'weights', (4096, 1000))\n",
      "('weight = ', 0.0)\n",
      "('fc8', 'biases', (1000,))\n",
      "(20, 1, 1, 1000)\n",
      "---------------------------------------- TrainStage1_discrete_tcnn1\n",
      "----------------------------------------\n",
      "All tensors that will be summarized:\n",
      "Tensor(\"CNN_FC/TrainStage1_discrete_tcnn1/temporal_conv/Relu:0\", shape=(1, 20, 1, 64), dtype=float32)\n",
      "Tensor(\"CNN_FC/TrainStage1_discrete_tcnn1/softmax_linear_car_discrete/BiasAdd:0\", shape=(20, 6), dtype=float32)\n"
     ]
    }
   ],
   "source": [
    "import wrapper\n",
    "import tensorflow as tf\n",
    "from tensorflow.core.example import example_pb2\n",
    "from cStringIO import StringIO\n",
    "from PIL import Image\n",
    "from matplotlib.pyplot import imshow\n",
    "%matplotlib inline\n",
    "import numpy as np\n",
    "\n",
    "a = wrapper.Wrapper(\"discrete_tcnn1\", \n",
    "            \"/data/yang/code/BDD_Driving_Model/data/discrete_tcnn1/model.ckpt-126001.bestmodel\",\n",
    "            20)"
   ]
  },
  {
   "cell_type": "code",
   "execution_count": 2,
   "metadata": {},
   "outputs": [
    {
     "name": "stdout",
     "output_type": "stream",
     "text": [
      "0\n"
     ]
    }
   ],
   "source": [
    "example = example_pb2.Example()\n",
    "in_file = \"/data/yang_cache/tfrecord_release/tfrecords/validation/ca737ec3-53cd36e2.tfrecords\"\n",
    "\n",
    "count = 0\n",
    "for example_serialized in tf.python_io.tf_record_iterator(in_file):\n",
    "    example.ParseFromString(example_serialized)\n",
    "    feature_map = example.features.feature\n",
    "    encoded = feature_map['image/encoded'].bytes_list.value\n",
    "    print count\n",
    "    count += 1"
   ]
  },
  {
   "cell_type": "code",
   "execution_count": null,
   "metadata": {},
   "outputs": [],
   "source": [
    "file_jpgdata = StringIO(encoded[0])\n",
    "dt = Image.open(file_jpgdata)\n",
    "imshow(np.asarray(dt))\n",
    "print a.observe_a_frame(np.asarray(dt))"
   ]
  },
  {
   "cell_type": "code",
   "execution_count": null,
   "metadata": {},
   "outputs": [],
   "source": [
    "for i in range(len(encoded)):\n",
    "    if i % 5 == 0:\n",
    "        file_jpgdata = StringIO(encoded[0])\n",
    "        dt = Image.open(file_jpgdata)\n",
    "        arr = np.asarray(dt)\n",
    "        out = a.observe_a_frame(arr)\n",
    "        print out\n",
    "        print i/5"
   ]
  },
  {
   "cell_type": "code",
   "execution_count": 18,
   "metadata": {},
   "outputs": [],
   "source": [
    "import pandas as pd\n",
    "import math\n",
    "import numpy as np"
   ]
  },
  {
   "cell_type": "code",
   "execution_count": 3,
   "metadata": {},
   "outputs": [],
   "source": [
    "import os\n",
    "cwd = os.getcwd()"
   ]
  },
  {
   "cell_type": "code",
   "execution_count": 4,
   "metadata": {},
   "outputs": [
    {
     "data": {
      "text/plain": [
       "'/work/BDD_Driving_Model-1'"
      ]
     },
     "execution_count": 4,
     "metadata": {},
     "output_type": "execute_result"
    }
   ],
   "source": [
    "cwd"
   ]
  },
  {
   "cell_type": "code",
   "execution_count": 5,
   "metadata": {},
   "outputs": [],
   "source": [
    "fd = '/work/data/DREYEVE_DATA/01'"
   ]
  },
  {
   "cell_type": "code",
   "execution_count": 12,
   "metadata": {},
   "outputs": [],
   "source": [
    "df = pd.read_csv(os.path.join(fd, 'speed_course_coord.txt'),\n",
    "                 sep='\\t', names=['time_point', 'speed', 'course', 'x', 'y', 'unknown'])"
   ]
  },
  {
   "cell_type": "code",
   "execution_count": 27,
   "metadata": {},
   "outputs": [],
   "source": [
    "df.speed = df.speed/3.6"
   ]
  },
  {
   "cell_type": "code",
   "execution_count": 28,
   "metadata": {},
   "outputs": [],
   "source": [
    "speeds = np.zeros((df.shape[0], 2))"
   ]
  },
  {
   "cell_type": "code",
   "execution_count": 29,
   "metadata": {},
   "outputs": [],
   "source": [
    "speeds[:, 0] = np.sin(df.course/360*math.pi)*df.speed\n",
    "speeds[:, 1] = np.cos(df.course/360*math.pi)*df.speed"
   ]
  },
  {
   "cell_type": "code",
   "execution_count": 30,
   "metadata": {},
   "outputs": [
    {
     "data": {
      "text/plain": [
       "array([[  0.98721326,  -9.39270679],\n",
       "       [  1.1005868 ,  -9.65972637],\n",
       "       [  1.1005868 ,  -9.65972637],\n",
       "       ...,\n",
       "       [  3.78769324, -17.08518012],\n",
       "       [  3.78769324, -17.08518012],\n",
       "       [  3.84781536, -17.35637346]])"
      ]
     },
     "execution_count": 30,
     "metadata": {},
     "output_type": "execute_result"
    }
   ],
   "source": [
    "speeds"
   ]
  },
  {
   "cell_type": "code",
   "execution_count": 33,
   "metadata": {},
   "outputs": [
    {
     "data": {
      "text/plain": [
       "array([0, 1, 2])"
      ]
     },
     "execution_count": 33,
     "metadata": {},
     "output_type": "execute_result"
    }
   ],
   "source": [
    "np.arange(3)"
   ]
  },
  {
   "cell_type": "code",
   "execution_count": 37,
   "metadata": {},
   "outputs": [],
   "source": [
    "target_fps = 10"
   ]
  },
  {
   "cell_type": "code",
   "execution_count": 34,
   "metadata": {},
   "outputs": [],
   "source": [
    "ORIGINAL_FPS = 25\n",
    "xs = np.arange(speeds.shape[0])/ORIGINAL_FPS"
   ]
  },
  {
   "cell_type": "code",
   "execution_count": 35,
   "metadata": {},
   "outputs": [
    {
     "data": {
      "text/plain": [
       "array([0.0000e+00, 4.0000e-02, 8.0000e-02, ..., 2.9988e+02, 2.9992e+02,\n",
       "       2.9996e+02])"
      ]
     },
     "execution_count": 35,
     "metadata": {},
     "output_type": "execute_result"
    }
   ],
   "source": [
    "xs"
   ]
  },
  {
   "cell_type": "code",
   "execution_count": 39,
   "metadata": {},
   "outputs": [],
   "source": [
    "ts = np.arange(0, speeds.shape[0]/ORIGINAL_FPS, 1/target_fps)"
   ]
  },
  {
   "cell_type": "code",
   "execution_count": 41,
   "metadata": {},
   "outputs": [],
   "source": [
    "output_speeds = np.zeros((len(ts), 2))"
   ]
  },
  {
   "cell_type": "code",
   "execution_count": 51,
   "metadata": {},
   "outputs": [],
   "source": [
    "output_speeds[:, 0] = np.interp(ts, xs, speeds[:, 0])\n",
    "output_speeds[:, 1] = np.interp(ts, xs, speeds[:, 1])"
   ]
  },
  {
   "cell_type": "code",
   "execution_count": 45,
   "metadata": {},
   "outputs": [],
   "source": [
    "import matplotlib.pyplot as plt"
   ]
  },
  {
   "cell_type": "code",
   "execution_count": 47,
   "metadata": {},
   "outputs": [
    {
     "data": {
      "text/plain": [
       "[<matplotlib.lines.Line2D at 0x7fdfac307dd8>]"
      ]
     },
     "execution_count": 47,
     "metadata": {},
     "output_type": "execute_result"
    },
    {
     "data": {
      "image/png": "[encoded data removed]",
      "text/plain": [
       "<matplotlib.figure.Figure at 0x7fdfac3ab908>"
      ]
     },
     "metadata": {},
     "output_type": "display_data"
    }
   ],
   "source": [
    "plt.plot(speeds[:, 0])"
   ]
  },
  {
   "cell_type": "code",
   "execution_count": 52,
   "metadata": {},
   "outputs": [
    {
     "data": {
      "text/plain": [
       "[<matplotlib.lines.Line2D at 0x7fdf88cdb9e8>]"
      ]
     },
     "execution_count": 52,
     "metadata": {},
     "output_type": "execute_result"
    },
    {
     "data": {
      "image/png": "[encoded data removed]",
      "text/plain": [
       "<matplotlib.figure.Figure at 0x7fdf88bf5048>"
      ]
     },
     "metadata": {},
     "output_type": "display_data"
    }
   ],
   "source": [
    "plt.plot(output_speeds[:,0])"
   ]
  },
  {
   "cell_type": "code",
   "execution_count": 50,
   "metadata": {},
   "outputs": [
    {
     "data": {
      "text/plain": [
       "[<matplotlib.lines.Line2D at 0x7fdf88be9b00>]"
      ]
     },
     "execution_count": 50,
     "metadata": {},
     "output_type": "execute_result"
    },
    {
     "data": {
      "image/png": "[encoded data removed]",
      "text/plain": [
       "<matplotlib.figure.Figure at 0x7fdf88c6f128>"
      ]
     },
     "metadata": {},
     "output_type": "display_data"
    }
   ],
   "source": [
    "plt.plot(xs)"
   ]
  }
 ],
 "metadata": {
  "kernelspec": {
   "display_name": "Python 3",
   "language": "python",
   "name": "python3"
  },
  "language_info": {
   "codemirror_mode": {
    "name": "ipython",
    "version": 3
   },
   "file_extension": ".py",
   "mimetype": "text/x-python",
   "name": "python",
   "nbconvert_exporter": "python",
   "pygments_lexer": "ipython3",
   "version": "3.5.2"
  }
 },
 "nbformat": 4,
 "nbformat_minor": 1
}
